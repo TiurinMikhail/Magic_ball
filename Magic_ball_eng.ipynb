{
 "cells": [
  {
   "cell_type": "markdown",
   "id": "fae98485",
   "metadata": {},
   "source": [
    "# Magic ball"
   ]
  },
  {
   "cell_type": "markdown",
   "id": "5cb22c0d",
   "metadata": {},
   "source": [
    "Magic 8-Ball - a humorous way to predict the future. The program should prompt the user to ask a question, and then randomly provide an answer to it."
   ]
  },
  {
   "cell_type": "markdown",
   "id": "96a226d4",
   "metadata": {},
   "source": [
    "# Preparation and Introduction"
   ]
  },
  {
   "cell_type": "code",
   "execution_count": 1,
   "id": "5757c626",
   "metadata": {},
   "outputs": [],
   "source": [
    "import random\n",
    "answers = [\"Certainly\",\n",
    "          \"It is certain\",\n",
    "          \"Without a doubt\",\n",
    "          \"Definitely yes\",\n",
    "          \"You can count on it\",\n",
    "          \"Seems like a yes\",\n",
    "          \"Most likely\",\n",
    "          \"Good prospects\",\n",
    "          \"Signs point to yes\",\n",
    "          \"Yes\",\n",
    "          \"Unclear, try again\",\n",
    "          \"Ask again later\",\n",
    "          \"Better not to tell you now\",\n",
    "          \"Cannot predict now\",\n",
    "          \"Concentrate and ask again\",\n",
    "          \"Don't even think about it\",\n",
    "          \"My answer is no\",\n",
    "          \"According to my information, no\",\n",
    "          \"Outlook not so good\",\n",
    "          \"Very doubtful\"]"
   ]
  },
  {
   "cell_type": "code",
   "execution_count": 2,
   "id": "02673bb0",
   "metadata": {},
   "outputs": [
    {
     "name": "stdout",
     "output_type": "stream",
     "text": [
      "Hello World, I am the Magic 8-Ball, and I know the answer to any of your questions.\n",
      "What is your name?\n",
      "Mikhail\n",
      "Hello, Mikhail\n"
     ]
    }
   ],
   "source": [
    "print('Hello World, I am the Magic 8-Ball, and I know the answer to any of your questions.')\n",
    "print('What is your name?')\n",
    "name = input()\n",
    "print(f'Hello, {name}')"
   ]
  },
  {
   "cell_type": "markdown",
   "id": "c2d6d0df",
   "metadata": {},
   "source": [
    "# Main program loop"
   ]
  },
  {
   "cell_type": "code",
   "execution_count": 3,
   "id": "3a554a45",
   "metadata": {},
   "outputs": [
    {
     "name": "stdout",
     "output_type": "stream",
     "text": [
      "Enter your question\n",
      "Will it work?\n",
      "According to my information, no\n",
      "Do you have another question? (y = yes, n = no): n\n",
      "Come back if you have more questions!\n"
     ]
    }
   ],
   "source": [
    "again = 'y'\n",
    "while again.lower() == 'y':\n",
    "    print('Enter your question')\n",
    "    user_question = input()\n",
    "    print(random.choice(answers))\n",
    "    again = input('Do you have another question? (y = yes, n = no): ')\n",
    "print('Come back if you have more questions!')"
   ]
  },
  {
   "cell_type": "markdown",
   "id": "2b3edcda",
   "metadata": {},
   "source": [
    "# Version №2"
   ]
  },
  {
   "cell_type": "code",
   "execution_count": 4,
   "id": "4791e3a6",
   "metadata": {},
   "outputs": [
    {
     "name": "stdout",
     "output_type": "stream",
     "text": [
      "Enter your question\n",
      "Will it work?\n",
      "My answer is no\n",
      "Do you have another question? (y = yes, n = no): n\n",
      "Come back if you have more questions!\n"
     ]
    }
   ],
   "source": [
    "while True:\n",
    "    print('Enter your question')\n",
    "    user_question = input()\n",
    "    print(random.choice(answers))\n",
    "    again = input('Do you have another question? (y = yes, n = no): ')\n",
    "    if again == 'y':\n",
    "        continue\n",
    "    else:\n",
    "        print('Come back if you have more questions!')\n",
    "        break"
   ]
  }
 ],
 "metadata": {
  "kernelspec": {
   "display_name": "Python 3 (ipykernel)",
   "language": "python",
   "name": "python3"
  },
  "language_info": {
   "codemirror_mode": {
    "name": "ipython",
    "version": 3
   },
   "file_extension": ".py",
   "mimetype": "text/x-python",
   "name": "python",
   "nbconvert_exporter": "python",
   "pygments_lexer": "ipython3",
   "version": "3.11.5"
  }
 },
 "nbformat": 4,
 "nbformat_minor": 5
}
